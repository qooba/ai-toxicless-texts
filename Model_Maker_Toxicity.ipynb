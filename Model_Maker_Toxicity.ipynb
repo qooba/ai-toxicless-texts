{
 "cells": [
  {
   "cell_type": "code",
   "execution_count": null,
   "metadata": {},
   "outputs": [],
   "source": [
    "# Download train dataset: https://www.kaggle.com/c/jigsaw-toxic-comment-classification-challenge/data?select=train.csv.zip"
   ]
  },
  {
   "cell_type": "code",
   "execution_count": 2,
   "metadata": {},
   "outputs": [],
   "source": [
    "import pandas as pd\n",
    "\n",
    "def parse_label(row):\n",
    "    return 'toxic' if row[\"toxic\"] or row[\"severe_toxic\"] or row[\"obscene\"] or row[\"threat\"] or row[\"insult\"] or row[\"identity_hate\"] else 'nontoxic'\n",
    "\n",
    "def create_label(original_file, new_file):\n",
    "    df = pd.read_csv(original_file, sep=',')\n",
    "    df['label'] = df.apply (lambda row: parse_label(row), axis=1)  \n",
    "    df.to_csv(new_file)\n",
    "\n",
    "create_label('toxicity/train.csv', 'toxicity/train_ok.csv')"
   ]
  },
  {
   "cell_type": "code",
   "execution_count": 4,
   "metadata": {
    "id": "XtxiUeZEiXpt"
   },
   "outputs": [],
   "source": [
    "import numpy as np\n",
    "import os\n",
    "\n",
    "from tflite_model_maker import model_spec\n",
    "from tflite_model_maker import text_classifier\n",
    "from tflite_model_maker.config import ExportFormat\n",
    "from tflite_model_maker.text_classifier import AverageWordVecSpec\n",
    "from tflite_model_maker.text_classifier import DataLoader\n",
    "\n",
    "import tensorflow as tf\n",
    "assert tf.__version__.startswith('2')\n",
    "tf.get_logger().setLevel('ERROR')"
   ]
  },
  {
   "cell_type": "code",
   "execution_count": 6,
   "metadata": {
    "id": "CtdZ-JDwMimd"
   },
   "outputs": [],
   "source": [
    "spec = model_spec.get('average_word_vec')"
   ]
  },
  {
   "cell_type": "code",
   "execution_count": 16,
   "metadata": {
    "id": "HD5BvzWe6YKa"
   },
   "outputs": [],
   "source": [
    "train_data, test_data = DataLoader.from_csv(\n",
    "      filename='toxicity/train_ok.csv',\n",
    "      text_column='comment_text',\n",
    "      label_column='label',\n",
    "      model_spec=spec,\n",
    "      is_training=True).split(0.8)"
   ]
  },
  {
   "cell_type": "code",
   "execution_count": 17,
   "metadata": {
    "colab": {
     "base_uri": "https://localhost:8080/"
    },
    "id": "kwlYdTcg63xy",
    "outputId": "b4702586-4abc-4629-a2e4-6b3b320ec397"
   },
   "outputs": [
    {
     "name": "stdout",
     "output_type": "stream",
     "text": [
      "Epoch 1/10\n",
      "3989/3989 [==============================] - 23s 6ms/step - loss: 0.2754 - accuracy: 0.9075\n",
      "Epoch 2/10\n",
      "3989/3989 [==============================] - 23s 6ms/step - loss: 0.2023 - accuracy: 0.9321\n",
      "Epoch 3/10\n",
      "3989/3989 [==============================] - 23s 6ms/step - loss: 0.1891 - accuracy: 0.9369\n",
      "Epoch 4/10\n",
      "3989/3989 [==============================] - 24s 6ms/step - loss: 0.1860 - accuracy: 0.9386\n",
      "Epoch 5/10\n",
      "3989/3989 [==============================] - 23s 6ms/step - loss: 0.1830 - accuracy: 0.9404\n",
      "Epoch 6/10\n",
      "3989/3989 [==============================] - 23s 6ms/step - loss: 0.1793 - accuracy: 0.9414\n",
      "Epoch 7/10\n",
      "3989/3989 [==============================] - 23s 6ms/step - loss: 0.1744 - accuracy: 0.9429\n",
      "Epoch 8/10\n",
      "3989/3989 [==============================] - 23s 6ms/step - loss: 0.1690 - accuracy: 0.9449\n",
      "Epoch 9/10\n",
      "3989/3989 [==============================] - 23s 6ms/step - loss: 0.1635 - accuracy: 0.9468\n",
      "Epoch 10/10\n",
      "3989/3989 [==============================] - 24s 6ms/step - loss: 0.1596 - accuracy: 0.9475\n"
     ]
    }
   ],
   "source": [
    "model = text_classifier.create(train_data, model_spec=spec, epochs=10)"
   ]
  },
  {
   "cell_type": "code",
   "execution_count": 18,
   "metadata": {},
   "outputs": [
    {
     "name": "stdout",
     "output_type": "stream",
     "text": [
      "Model: \"sequential_2\"\n",
      "_________________________________________________________________\n",
      "Layer (type)                 Output Shape              Param #   \n",
      "=================================================================\n",
      "embedding_2 (Embedding)      (None, 256, 16)           160048    \n",
      "_________________________________________________________________\n",
      "global_average_pooling1d_2 ( (None, 16)                0         \n",
      "_________________________________________________________________\n",
      "dense_4 (Dense)              (None, 16)                272       \n",
      "_________________________________________________________________\n",
      "dropout_2 (Dropout)          (None, 16)                0         \n",
      "_________________________________________________________________\n",
      "dense_5 (Dense)              (None, 2)                 34        \n",
      "=================================================================\n",
      "Total params: 160,354\n",
      "Trainable params: 160,354\n",
      "Non-trainable params: 0\n",
      "_________________________________________________________________\n"
     ]
    }
   ],
   "source": [
    "model.summary()"
   ]
  },
  {
   "cell_type": "code",
   "execution_count": 19,
   "metadata": {
    "colab": {
     "base_uri": "https://localhost:8080/"
    },
    "id": "8xmnl6Yy7ARn",
    "outputId": "249a11d3-b4d5-4a98-efa1-eb63a9c3daed"
   },
   "outputs": [
    {
     "name": "stdout",
     "output_type": "stream",
     "text": [
      "998/998 [==============================] - 6s 3ms/step - loss: 0.1583 - accuracy: 0.9487\n"
     ]
    }
   ],
   "source": [
    "loss, acc = model.evaluate(test_data)"
   ]
  },
  {
   "cell_type": "code",
   "execution_count": 20,
   "metadata": {
    "id": "Hm_UULdW7A9T"
   },
   "outputs": [],
   "source": [
    "model.export(export_dir='average_word_vec_toxicity')"
   ]
  },
  {
   "cell_type": "code",
   "execution_count": 9,
   "metadata": {},
   "outputs": [
    {
     "name": "stdout",
     "output_type": "stream",
     "text": [
      "/usr/lib/python3.6/runpy.py:125: RuntimeWarning: 'tf2onnx.convert' found in sys.modules after import of package 'tf2onnx', but prior to execution of 'tf2onnx.convert'; this may result in unpredictable behaviour\n",
      "  warn(RuntimeWarning(msg))\n",
      "2021-09-18 00:43:12,328 - INFO - Using tensorflow=2.6.0, onnx=1.10.1, tf2onnx=1.9.2/0f28b7\n",
      "2021-09-18 00:43:12,328 - INFO - Using opset <onnx, 13>\n",
      "2021-09-18 00:43:12,366 - INFO - Optimizing ONNX model\n",
      "2021-09-18 00:43:12,394 - INFO - After optimization: Const -2 (7->5), Identity -1 (1->0), Transpose -2 (2->0)\n",
      "2021-09-18 00:43:12,396 - INFO - \n",
      "2021-09-18 00:43:12,396 - INFO - Successfully converted TensorFlow model average_word_vec/model.tflite to ONNX\n",
      "2021-09-18 00:43:12,396 - INFO - Model inputs: ['input_1']\n",
      "2021-09-18 00:43:12,397 - INFO - Model outputs: ['Identity']\n",
      "2021-09-18 00:43:12,397 - INFO - ONNX model is saved at average_word_vec/model.onnx\n"
     ]
    }
   ],
   "source": [
    "!python -m tf2onnx.convert --opset 13 --tflite average_word_vec/model.tflite --output average_word_vec/model.onnx"
   ]
  },
  {
   "cell_type": "code",
   "execution_count": 29,
   "metadata": {},
   "outputs": [],
   "source": [
    "model.model_spec.save_vocab('vocab.txt')"
   ]
  }
 ],
 "metadata": {
  "accelerator": "GPU",
  "colab": {
   "collapsed_sections": [],
   "name": "Model Maker Text Classification Tutorial",
   "provenance": []
  },
  "kernelspec": {
   "display_name": "Python 3",
   "language": "python",
   "name": "python3"
  },
  "language_info": {
   "codemirror_mode": {
    "name": "ipython",
    "version": 3
   },
   "file_extension": ".py",
   "mimetype": "text/x-python",
   "name": "python",
   "nbconvert_exporter": "python",
   "pygments_lexer": "ipython3",
   "version": "3.6.9"
  }
 },
 "nbformat": 4,
 "nbformat_minor": 4
}
